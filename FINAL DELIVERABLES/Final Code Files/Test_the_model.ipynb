{
  "nbformat": 4,
  "nbformat_minor": 0,
  "metadata": {
    "colab": {
      "provenance": []
    },
    "kernelspec": {
      "name": "python3",
      "display_name": "Python 3"
    },
    "language_info": {
      "name": "python"
    }
  },
  "cells": [
    {
      "cell_type": "markdown",
      "source": [
        "import keras\n",
        "from keras.models import load_model\n",
        "import cv2\n",
        "import numpy as np\n",
        "import os\n",
        "os.environ['TF_CPP_MIN_LOG_LEVEL'] = '2'\n",
        "val=['A','B','C','D','E','F','G','H','I']\n",
        "\n",
        "model=load_model('model.h5')\n",
        "from skimage.transform import resize\n",
        "def detect(frame):\n",
        "    img=resize(frame,(64,64,1))\n",
        "    img=np.expand_dims(img,axis=0)\n",
        "    if(np.max(img)>1):\n",
        "        img = img/255.0\n",
        "    predict_x=model.predict(img)\n",
        "    print(predict_x)\n",
        "    predict=np.argmax(predict_x,axis=1)\n",
        "    x=predict[0]\n",
        "    print(val[x])\n",
        "frame=cv2.imread(r\"C:\\Users\\Akshaya\\PycharmProjects\\Realtime_Communication_System_For_Specially_Abled\\Dataset\\test_set\\B\\1.png\")\n",
        "data=detect(frame)"
      ],
      "metadata": {
        "id": "XI7Ivuiqy9np"
      }
    }
  ]
}