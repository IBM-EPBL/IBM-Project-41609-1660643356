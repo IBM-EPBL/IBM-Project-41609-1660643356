{
  "nbformat": 4,
  "nbformat_minor": 0,
  "metadata": {
    "colab": {
      "provenance": []
    },
    "kernelspec": {
      "name": "python3",
      "display_name": "Python 3"
    },
    "language_info": {
      "name": "python"
    }
  },
  "cells": [
    {
      "cell_type": "markdown",
      "source": [
        "<!DOCTYPE html>\n",
        "<html lang=\"en\">\n",
        "  <head>\n",
        "     <style>\n",
        "body{\n",
        "  background-image: url(\"https://image.shutterstock.com/image-vector/deaf-sign-language-welcome-line-260nw-1585429861.jpg\");\n",
        "   background-repeat: no-repeat;\n",
        "  background-size: cover;\n",
        "}\n",
        "</style>\n",
        "  <script>\n",
        "\n",
        "        function loadGoogleTranslate()\n",
        "    \n",
        "        {\n",
        "    \n",
        "            new google.translate.TranslateElement(\"element\")\n",
        "    \n",
        "        }\n",
        "    \n",
        "    </script>\n",
        "     <script src=\"http://translate.google.com/translate_a/element.js?cb=loadGoogleTranslate\"></script> \n",
        "    <meta charset=\"UTF-8\" />\n",
        "    <meta http-equiv=\"X-UA-Compatible\" content=\"IE=edge\" />\n",
        "    <meta name=\"viewport\" content=\"width=device-width, initial-scale=1.0\" />\n",
        "    <title>Document</title>\n",
        "    <link rel=\"stylesheet\"  href=\"{{ url_for('static', filename='css/index.css') }}\" />\n",
        "  </head>\n",
        "  <body>\n",
        "    <section class=\"main\">\n",
        "      <div class=\"inside\">\n",
        "        <div class=\"wrapper\">\n",
        "            <div class=\"Head\">\n",
        "                <h1>Welcome</h1>\n",
        "                <span></span>\n",
        "                <div id=\"element\"></div>\n",
        "            </div>\n",
        "             \n",
        "          <a class=\"box1 box\" href=\"sign_to_speech\">Sign to speech</a>\n",
        "          <a class=\"box1 box\" href=\"speech_to_sign\">Speech to sign</a>\n",
        "        </div>\n",
        "      </div>\n",
        "    </section>\n",
        "  </body>\n",
        "</html>\n",
        "Footer\n",
        "© 2022 GitHub, Inc."
      ],
      "metadata": {
        "id": "apKaRIPrwiwb"
      }
    }
  ]
}