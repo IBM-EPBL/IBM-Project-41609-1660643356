{
  "nbformat": 4,
  "nbformat_minor": 0,
  "metadata": {
    "colab": {
      "provenance": []
    },
    "kernelspec": {
      "name": "python3",
      "display_name": "Python 3"
    },
    "language_info": {
      "name": "python"
    }
  },
  "cells": [
    {
      "cell_type": "markdown",
      "source": [
        "<html>\n",
        "<head>\n",
        "    <style>\n",
        "        img{\n",
        "        display: block;\n",
        "  margin-left: auto;\n",
        "  margin-right: auto;\n",
        "        }\n",
        "\n",
        "    </style>\n",
        "    <script>\n",
        "\n",
        "        function loadGoogleTranslate()\n",
        "    \n",
        "        {\n",
        "    \n",
        "            new google.translate.TranslateElement(\"google_element\")\n",
        "    \n",
        "        }\n",
        "    \n",
        "    </script>\n",
        "    <script src=\"http://translate.google.com/translate_a/element.js?cb=loadGoogleTranslate\"></script> \n",
        "    <script src=\"https://ajax.googleapis.com/ajax/libs/jquery/3.6.0/jquery.min.js\"></script>\n",
        "    <script src=\"https://maxcdn.bootstrapcdn.com/bootstrap/3.4.1/js/bootstrap.min.js\"></script>\n",
        "     <link rel=\"stylesheet\" href=\"https://maxcdn.bootstrapcdn.com/bootstrap/3.4.1/css/bootstrap.min.css\"/>\n",
        "</head>\n",
        "\n",
        "  <body>\n",
        "    <h1>Sign to speech</h1>\n",
        "    <div>\n",
        "        <div class=\"text-center\" id=\"google_element\"></div>\n",
        "<img src=\"{{ url_for('video') }}\" width=\"50%\" height=\"50%\"/>\n",
        "<br/>\n",
        "<div class=\"text-center\">\n",
        "<a href=\"/\">\n",
        "    <button class=\"btn btn-danger btn-lg\" >Exit</button>\n",
        "</a></div>\n",
        "</div>\n",
        "\n",
        "   \n",
        "    </body>\n",
        "\n",
        "\n",
        "</html>"
      ],
      "metadata": {
        "id": "ziKay1LRw8Jq"
      }
    }
  ]
}